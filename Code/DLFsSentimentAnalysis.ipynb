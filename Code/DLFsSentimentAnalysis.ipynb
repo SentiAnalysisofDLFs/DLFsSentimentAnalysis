{
 "cells": [
  {
   "cell_type": "code",
   "execution_count": 1,
   "id": "aa2cd621",
   "metadata": {},
   "outputs": [],
   "source": [
    "import pandas as pd\n",
    "from scipy import stats\n",
    "from scipy.stats import pearsonr\n",
    "from scipy import stats"
   ]
  },
  {
   "cell_type": "code",
   "execution_count": 36,
   "id": "d26dcd3e",
   "metadata": {},
   "outputs": [],
   "source": [
    "df_Comment_mx = pd.read_csv('./comments_sentiment_score_mx.csv')\n",
    "df_Comment_py = pd.read_csv('./comments_sentiment_score_py.csv')\n",
    "df_Comment_tf = pd.read_csv('./comments_sentiment_score_tf.csv')"
   ]
  },
  {
   "cell_type": "code",
   "execution_count": 37,
   "id": "0ca2994e",
   "metadata": {},
   "outputs": [
    {
     "name": "stdout",
     "output_type": "stream",
     "text": [
      "1113 7166 2348\n"
     ]
    }
   ],
   "source": [
    "print(df_Comment_mx.shape[0], df_Comment_py.shape[0], df_Comment_tf.shape[0])"
   ]
  },
  {
   "cell_type": "code",
   "execution_count": 38,
   "id": "3c252d74",
   "metadata": {},
   "outputs": [],
   "source": [
    "df_Comment_mx['SentimentScore'] = pd.to_numeric(df_Comment_mx['SentimentScore'], errors='coerce')\n",
    "df_Comment_py['SentimentScore'] = pd.to_numeric(df_Comment_py['SentimentScore'], errors='coerce')\n",
    "df_Comment_tf['SentimentScore'] = pd.to_numeric(df_Comment_tf['SentimentScore'], errors='coerce')"
   ]
  },
  {
   "cell_type": "code",
   "execution_count": 39,
   "id": "7b83998c",
   "metadata": {
    "scrolled": true
   },
   "outputs": [
    {
     "name": "stdout",
     "output_type": "stream",
     "text": [
      "SentimentScore\n",
      " 0    628\n",
      " 2    114\n",
      " 3     99\n",
      " 1     81\n",
      "-2     72\n",
      "-1     52\n",
      "-3     33\n",
      " 5     24\n",
      "-4      6\n",
      " 4      4\n",
      "Name: count, dtype: int64 SentimentScore\n",
      " 0    4070\n",
      " 2     636\n",
      " 3     573\n",
      " 1     562\n",
      "-2     523\n",
      "-1     458\n",
      " 5     144\n",
      "-3     136\n",
      " 4      51\n",
      "-4      13\n",
      "Name: count, dtype: int64 SentimentScore\n",
      " 0    1319\n",
      " 3     291\n",
      " 2     229\n",
      " 1     156\n",
      "-2     132\n",
      "-1     122\n",
      " 5      42\n",
      "-3      27\n",
      " 4      26\n",
      "-4       4\n",
      "Name: count, dtype: int64\n"
     ]
    }
   ],
   "source": [
    "comment_score_mx = df_Comment_mx['SentimentScore'].value_counts()\n",
    "comment_score_py = df_Comment_py['SentimentScore'].value_counts()\n",
    "comment_score_tf = df_Comment_tf['SentimentScore'].value_counts()\n",
    "print(comment_score_mx, comment_score_py, comment_score_tf)"
   ]
  },
  {
   "cell_type": "code",
   "execution_count": 40,
   "id": "ce8ab993",
   "metadata": {},
   "outputs": [],
   "source": [
    "df_bugSentiAnalysis_comment_mx = df_Comment_mx.groupby('IssueID').agg(\n",
    "    RelatedPrID=('RelatedPrID', 'first'),               # 提取第一个 RelatedPrID\n",
    "    IssueCategory=('IssueCategory', 'first'),\n",
    "    Participants=('Creator', 'nunique'),                # 计算不同 Creator 的数量\n",
    "    IsMPLF=('IsMPLF', 'first'),                          # 提取第一个 IsMPLF\n",
    "    SentimentScore=('SentimentScore', 'mean')           # 计算 SentimentScore 的平均值\n",
    ").reset_index()\n",
    "df_bugSentiAnalysis_comment_mx['IssueCategory'] = df_bugSentiAnalysis_comment_mx['IssueCategory'].str.strip()\n",
    "df_bugSentiAnalysis_comment_mx.to_csv('./bugs_sentiment_score_mx.csv', index=False)"
   ]
  },
  {
   "cell_type": "code",
   "execution_count": 41,
   "id": "717d4e8e",
   "metadata": {},
   "outputs": [],
   "source": [
    "df_bugSentiAnalysis_comment_py = df_Comment_py.groupby('IssueID').agg(\n",
    "    RelatedPrID=('RelatedPrID', 'first'),               # 提取第一个 RelatedPrID\n",
    "    IssueCategory=('IssueCategory', 'first'),\n",
    "    Participants=('Creator', 'nunique'),                # 计算不同 Creator 的数量\n",
    "    IsMPLF=('IsMPLF', 'first'),                          # 提取第一个 IsMPLF\n",
    "    SentimentScore=('SentimentScore', 'mean')           # 计算 SentimentScore 的平均值\n",
    ").reset_index()\n",
    "df_bugSentiAnalysis_comment_py['IssueCategory'] = df_bugSentiAnalysis_comment_py['IssueCategory'].str.strip()\n",
    "df_bugSentiAnalysis_comment_py.to_csv('./bugs_sentiment_score_py.csv', index=False)"
   ]
  },
  {
   "cell_type": "code",
   "execution_count": 42,
   "id": "09c79692",
   "metadata": {},
   "outputs": [],
   "source": [
    "df_bugSentiAnalysis_comment_tf = df_Comment_tf.groupby('IssueID').agg(\n",
    "    RelatedPrID=('RelatedPrID', 'first'),               # 提取第一个 RelatedPrID\n",
    "    IssueCategory=('IssueCategory', 'first'),\n",
    "    Participants=('Creator', 'nunique'),                # 计算不同 Creator 的数量\n",
    "    IsMPLF=('IsMPLF', 'first'),                          # 提取第一个 IsMPLF\n",
    "    SentimentScore=('SentimentScore', 'mean')           # 计算 SentimentScore 的平均值\n",
    ").reset_index()\n",
    "df_bugSentiAnalysis_comment_tf['IssueCategory'] = df_bugSentiAnalysis_comment_tf['IssueCategory'].str.strip()\n",
    "df_bugSentiAnalysis_comment_tf.to_csv('./bugs_sentiment_score_tf.csv', index=False)"
   ]
  },
  {
   "cell_type": "code",
   "execution_count": 43,
   "id": "706fac19",
   "metadata": {},
   "outputs": [],
   "source": [
    "Category_sentiment_comment_mx = df_bugSentiAnalysis_comment_mx.groupby('IssueCategory').agg(Count=('IssueID', 'size'), Percentage=('IssueID', lambda x: (len(x) / len(df_bugSentiAnalysis_comment_mx)) * 100), SentimentScore=('SentimentScore', 'mean')).reset_index()\n",
    "Category_sentiment_comment_py = df_bugSentiAnalysis_comment_py.groupby('IssueCategory').agg(Count=('IssueID', 'size'), Percentage=('IssueID', lambda x: (len(x) / len(df_bugSentiAnalysis_comment_py)) * 100), SentimentScore=('SentimentScore', 'mean')).reset_index()\n",
    "Category_sentiment_comment_tf = df_bugSentiAnalysis_comment_tf.groupby('IssueCategory').agg(Count=('IssueID', 'size'), Percentage=('IssueID', lambda x: (len(x) / len(df_bugSentiAnalysis_comment_tf)) * 100), SentimentScore=('SentimentScore', 'mean')).reset_index()\n",
    "\n",
    "Category_sentiment_comment_mx.columns = ['IssueCategory', 'Count', 'Percentage', 'SentimentScore']\n",
    "Category_sentiment_comment_py.columns = ['IssueCategory', 'Count', 'Percentage', 'SentimentScore']\n",
    "Category_sentiment_comment_tf.columns = ['IssueCategory', 'Count', 'Percentage', 'SentimentScore']\n",
    "\n",
    "Category_sentiment_comment_mx.to_excel('./Category_sentiment_comment_mx.xlsx', index=False)\n",
    "Category_sentiment_comment_py.to_excel('./Category_sentiment_comment_py.xlsx', index=False)\n",
    "Category_sentiment_comment_tf.to_excel('./Category_sentiment_comment_tf.xlsx', index=False)"
   ]
  },
  {
   "cell_type": "code",
   "execution_count": 44,
   "id": "5e27555f",
   "metadata": {},
   "outputs": [],
   "source": [
    "def analyze_sentiment_difference(df_MWU, sentiment_col='SentimentScore', group_col='IsMPLF', alpha=0.05):\n",
    "    # 根据 group_col 列分组\n",
    "    group_0 = df_MWU[df_MWU[group_col] == 0][sentiment_col]  # 单语言\n",
    "    group_1 = df_MWU[df_MWU[group_col] == 1][sentiment_col]  # 多语言\n",
    "\n",
    "    # 正态性检验\n",
    "    shapiro_0 = stats.shapiro(group_0)\n",
    "    shapiro_1 = stats.shapiro(group_1)\n",
    "\n",
    "    print(f'Group 0 (Single Language) Shapiro test: Statistic={shapiro_0.statistic}, p-value={shapiro_0.pvalue}')\n",
    "    print(f'Group 1 (Multi Language) Shapiro test: Statistic={shapiro_1.statistic}, p-value={shapiro_1.pvalue}')\n",
    "\n",
    "    # 选择合适的检验\n",
    "    if shapiro_0.pvalue > 0.05 and shapiro_1.pvalue > 0.05:\n",
    "        # 数据符合正态分布，可以使用 t 检验\n",
    "        t_stat, p_value = stats.ttest_ind(group_0, group_1)\n",
    "        print(f't-test statistic: {t_stat}, p-value: {p_value}')\n",
    "    else:\n",
    "        # 数据不符合正态分布，使用 Mann-Whitney U 检验\n",
    "        u_stat, p_value = stats.mannwhitneyu(group_0, group_1)\n",
    "        print(f'Mann-Whitney U statistic: {u_stat}, p-value: {p_value}')\n",
    "\n",
    "    # 根据 p-value 判断显著性\n",
    "    if p_value < alpha:\n",
    "        print(\"Reject null hypothesis: There is a significant difference in SentimentScore between single language and multi-language cases.\")\n",
    "    else:\n",
    "        print(\"Fail to reject null hypothesis: No significant difference in SentimentScore between single language and multi-language cases.\")"
   ]
  },
  {
   "cell_type": "code",
   "execution_count": 45,
   "id": "715c36ba",
   "metadata": {},
   "outputs": [
    {
     "name": "stdout",
     "output_type": "stream",
     "text": [
      "Group 0 (Single Language) Shapiro test: Statistic=0.9339575523605297, p-value=1.4746959184926478e-19\n",
      "Group 1 (Multi Language) Shapiro test: Statistic=0.9135063895621505, p-value=5.278928171609272e-16\n",
      "Mann-Whitney U statistic: 237636.0, p-value: 0.007821043919907653\n",
      "Reject null hypothesis: There is a significant difference in SentimentScore between single language and multi-language cases.\n"
     ]
    }
   ],
   "source": [
    "df_total_comment = pd.concat([df_bugSentiAnalysis_comment_mx, df_bugSentiAnalysis_comment_py, df_bugSentiAnalysis_comment_tf]).reset_index(drop=True)\n",
    "\n",
    "analyze_sentiment_difference(df_total_comment)"
   ]
  },
  {
   "cell_type": "code",
   "execution_count": 47,
   "id": "34419cb6",
   "metadata": {},
   "outputs": [],
   "source": [
    "average_sentiment = df_total_comment.groupby('IsMPLF')['SentimentScore'].mean()"
   ]
  },
  {
   "cell_type": "code",
   "execution_count": 48,
   "id": "227545d9",
   "metadata": {},
   "outputs": [
    {
     "data": {
      "text/plain": [
       "IsMPLF\n",
       "0    0.593843\n",
       "1    0.451524\n",
       "Name: SentimentScore, dtype: float64"
      ]
     },
     "execution_count": 48,
     "metadata": {},
     "output_type": "execute_result"
    }
   ],
   "source": [
    "average_sentiment"
   ]
  },
  {
   "cell_type": "code",
   "execution_count": null,
   "id": "a0926dde",
   "metadata": {},
   "outputs": [],
   "source": []
  }
 ],
 "metadata": {
  "kernelspec": {
   "display_name": "Python 3 (ipykernel)",
   "language": "python",
   "name": "python3"
  },
  "language_info": {
   "codemirror_mode": {
    "name": "ipython",
    "version": 3
   },
   "file_extension": ".py",
   "mimetype": "text/x-python",
   "name": "python",
   "nbconvert_exporter": "python",
   "pygments_lexer": "ipython3",
   "version": "3.10.14"
  }
 },
 "nbformat": 4,
 "nbformat_minor": 5
}
