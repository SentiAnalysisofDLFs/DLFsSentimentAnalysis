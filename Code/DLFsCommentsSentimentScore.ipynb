{
 "cells": [
  {
   "cell_type": "code",
   "execution_count": 14,
   "id": "5b30aefd",
   "metadata": {},
   "outputs": [],
   "source": [
    "from dotenv import load_dotenv\n",
    "import os\n",
    "import pandas as pd\n",
    "import openai\n",
    "from openai import OpenAI"
   ]
  },
  {
   "cell_type": "code",
   "execution_count": 16,
   "id": "6540eec3",
   "metadata": {},
   "outputs": [],
   "source": [
    "# Your OpenAI api\n",
    "load_dotenv()\n",
    "openAI_api = os.getenv(\"OPENAI_API_KEY\")\n",
    "client = OpenAI(\n",
    "    api_key=openAI_api\n",
    ")"
   ]
  },
  {
   "cell_type": "code",
   "execution_count": 3,
   "id": "202cdffc",
   "metadata": {},
   "outputs": [],
   "source": [
    "def get_sentimentScore_from_gpt(text):\n",
    "    prompt = \"Assign a sentiment score to the following GitHub issue description or comment based on the sentiment tone of the text. Provide a sentiment score from -5 to 5, and you should only return the sentiment score.\\n\\nText：\" + text\n",
    "    \n",
    "    completion = client.chat.completions.create(\n",
    "        model=\"gpt-4o\",\n",
    "        temperature=0,\n",
    "        messages=[\n",
    "            {\"role\": \"system\", \"content\": \"You are a sentiment analysis assistant and expert in the field of software engineering. Your task is to assign sentiment scores from -5 to 5 to the descriptions or comments of GitHub issues. Negative scores (-1 to -5) indicate different degrees of negative sentiment. 0 indicates neutral sentiment. Positive scores (1 to 5) indicate different degrees of positive sentiment. Please use the domain knowledge of sentiment analysis in software engineering, consider the wording and overall tone, to provide the best sentiment score for each input.\"},\n",
    "            {\"role\": \"user\", \"content\": prompt}\n",
    "        ]\n",
    "    )\n",
    "    return completion.choices[0].message.content.strip()"
   ]
  },
  {
   "cell_type": "code",
   "execution_count": 15,
   "id": "3d14aeae",
   "metadata": {},
   "outputs": [],
   "source": [
    "df_sentiment_analysis_mx = pd.read_csv('./processing_sentiment_analysis_mxComments_v1.0.csv')\n",
    "df_sentiment_analysis_py = pd.read_csv('./processing_sentiment_analysis_pyComments_v1.0.csv')\n",
    "df_sentiment_analysis_tf = pd.read_csv('./processing_sentiment_analysis_tfComments_v1.0.csv')"
   ]
  },
  {
   "cell_type": "code",
   "execution_count": 10,
   "id": "2bcda252",
   "metadata": {},
   "outputs": [],
   "source": [
    "df_sentiment_analysis_mx['SentimentScore'] = df_sentiment_analysis_mx.CleanedTextContent.apply(get_sentimentScore_from_gpt)\n",
    "df_sentiment_analysis_mx.to_csv('./comments_sentiment_score_mx.csv', index=False)"
   ]
  },
  {
   "cell_type": "code",
   "execution_count": 11,
   "id": "d4387f3c",
   "metadata": {},
   "outputs": [],
   "source": [
    "df_sentiment_analysis_py['SentimentScore'] = df_sentiment_analysis_py.CleanedTextContent.apply(get_sentimentScore_from_gpt)\n",
    "df_sentiment_analysis_py.to_csv('./comments_sentiment_score_py.csv', index=False)"
   ]
  },
  {
   "cell_type": "code",
   "execution_count": 13,
   "id": "e832e735",
   "metadata": {},
   "outputs": [],
   "source": [
    "df_sentiment_analysis_tf['SentimentScore'] = df_sentiment_analysis_tf.CleanedTextContent.apply(get_sentimentScore_from_gpt)\n",
    "df_sentiment_analysis_tf.to_csv('./comments_sentiment_score_tf.csv', index=False)"
   ]
  }
 ],
 "metadata": {
  "kernelspec": {
   "display_name": "Python 3 (ipykernel)",
   "language": "python",
   "name": "python3"
  },
  "language_info": {
   "codemirror_mode": {
    "name": "ipython",
    "version": 3
   },
   "file_extension": ".py",
   "mimetype": "text/x-python",
   "name": "python",
   "nbconvert_exporter": "python",
   "pygments_lexer": "ipython3",
   "version": "3.10.14"
  }
 },
 "nbformat": 4,
 "nbformat_minor": 5
}
